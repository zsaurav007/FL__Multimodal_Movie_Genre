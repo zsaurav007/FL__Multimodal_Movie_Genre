{
  "nbformat": 4,
  "nbformat_minor": 0,
  "metadata": {
    "colab": {
      "provenance": []
    },
    "kernelspec": {
      "name": "python3",
      "display_name": "Python 3"
    },
    "language_info": {
      "name": "python"
    }
  },
  "cells": [
    {
      "cell_type": "code",
      "execution_count": null,
      "metadata": {
        "colab": {
          "base_uri": "https://localhost:8080/"
        },
        "id": "cDl6J3L4Ry6H",
        "outputId": "6e770403-8a54-435f-c1c5-4e3cc2f26658"
      },
      "outputs": [
        {
          "output_type": "stream",
          "name": "stdout",
          "text": [
            "Mounted at /content/drive\n"
          ]
        }
      ],
      "source": [
        "from google.colab import drive\n",
        "drive.mount('/content/drive', force_remount=True)"
      ]
    },
    {
      "cell_type": "code",
      "source": [
        "import os\n",
        "\n",
        "base_path = '/content/drive/MyDrive/FYDP/ImageData/'\n",
        "source_folder = os.path.join(base_path, 'all4genreposters_resized')\n",
        "augment_folder = os.path.join(base_path, 'augmented_new_resized')\n",
        "os.makedirs(augment_folder)"
      ],
      "metadata": {
        "id": "8hlFMLzWS-t0"
      },
      "execution_count": null,
      "outputs": []
    },
    {
      "cell_type": "code",
      "source": [
        "import cv2\n",
        "import numpy as np\n",
        "# Function to apply brightness alteration to an image\n",
        "def apply_brightness_alteration(image, brightness_factor):\n",
        "    # Convert the image to HSV color space\n",
        "    hsv = cv2.cvtColor(image, cv2.COLOR_BGR2HSV)\n",
        "\n",
        "    # Scale the V (Value) channel by the brightness factor\n",
        "    hsv[..., 2] = np.clip(hsv[..., 2] * brightness_factor, 0, 255)\n",
        "\n",
        "    # Convert the image back to BGR color space\n",
        "    altered_image = cv2.cvtColor(hsv, cv2.COLOR_HSV2BGR)\n",
        "\n",
        "    return altered_image\n",
        "\n",
        "# Function to apply color alteration to an image\n",
        "def apply_color_alteration(image, color_factor):\n",
        "    # Split the image into its RGB channels\n",
        "    b, g, r = cv2.split(image)\n",
        "\n",
        "    # Apply color alteration to each channel\n",
        "    b = np.clip(b * color_factor, 0, 255)\n",
        "    g = np.clip(g * color_factor, 0, 255)\n",
        "    r = np.clip(r * color_factor, 0, 255)\n",
        "\n",
        "    # Merge the altered channels to get the final image\n",
        "    altered_image = cv2.merge((b, g, r))\n",
        "\n",
        "    return altered_image\n",
        "\n",
        "# Function to apply contrast alteration to an image\n",
        "def apply_contrast_alteration(image, contrast_factor):\n",
        "    # Convert the image to grayscale\n",
        "    gray_image = cv2.cvtColor(image, cv2.COLOR_BGR2GRAY)\n",
        "\n",
        "    # Apply contrast alteration using the contrast_factor\n",
        "    adjusted_image = cv2.convertScaleAbs(gray_image, alpha=contrast_factor, beta=0)\n",
        "\n",
        "    # Convert the adjusted image back to BGR color space\n",
        "    final_image = cv2.cvtColor(adjusted_image, cv2.COLOR_GRAY2BGR)\n",
        "\n",
        "    return final_image\n",
        "\n",
        "# Function to apply sharpness alteration to an image\n",
        "def apply_sharpness_alteration(image, sharpness_factor):\n",
        "    # Convert the image to grayscale\n",
        "    gray_image = cv2.cvtColor(image, cv2.COLOR_BGR2GRAY)\n",
        "\n",
        "    # Apply Gaussian blur to the grayscale image\n",
        "    blurred_image = cv2.GaussianBlur(gray_image, (0, 0), sigmaX=sharpness_factor)\n",
        "\n",
        "    # Calculate the sharpened image as the difference between the original and blurred images\n",
        "    sharpened_image = cv2.addWeighted(gray_image, 1.5, blurred_image, -0.5, 0)\n",
        "\n",
        "    # Convert the sharpened image back to BGR color space\n",
        "    final_image = cv2.cvtColor(sharpened_image, cv2.COLOR_GRAY2BGR)\n",
        "\n",
        "    return final_image\n",
        "\n",
        "sharpness_factors = [1.2,  2.5]\n",
        "brightness_factors = [1.2,  1.5]\n",
        "contrast_factors = [1.2,  1.6]\n",
        "color_factors = [0.5, 1.5]"
      ],
      "metadata": {
        "id": "ZThmZsl4TXPC"
      },
      "execution_count": null,
      "outputs": []
    },
    {
      "cell_type": "code",
      "source": [
        "def augment_image(augment_image_func, factors, image_file_name_parts, image, prefix):\n",
        "  for idx, item in enumerate(factors):\n",
        "    temp_image = augment_image_func(image, item)\n",
        "    temp_image_file_name = f\"{image_file_name_parts[0]}_{prefix}_{idx}{image_file_name_parts[-1]}\"\n",
        "    cv2.imwrite(os.path.join(target_path, temp_image_file_name), temp_image)\n",
        "\n",
        "for genre in os.listdir(source_folder):\n",
        "  genre_path = os.path.join(source_folder, genre)\n",
        "  image_files = os.listdir(genre_path)\n",
        "  target_path = os.path.join(augment_folder, genre)\n",
        "  os.makedirs(target_path, exist_ok = True)\n",
        "  for image_file in image_files:\n",
        "    image_path = os.path.join(genre_path, image_file)\n",
        "    image = cv2.imread(image_path)\n",
        "    cv2.imwrite(os.path.join(target_path, image_file), image)\n",
        "    image_file_name_parts = os.path.splitext(image_file)\n",
        "    augment_image(apply_sharpness_alteration, sharpness_factors, image_file_name_parts, image, \"sharpness\")\n",
        "    augment_image(apply_brightness_alteration, brightness_factors, image_file_name_parts, image, \"brightness\")\n",
        "    augment_image(apply_contrast_alteration, contrast_factors, image_file_name_parts, image, \"contrast\")\n",
        "    augment_image(apply_color_alteration, color_factors, image_file_name_parts, image, \"color\")"
      ],
      "metadata": {
        "id": "7CtUHRbJT-xy"
      },
      "execution_count": null,
      "outputs": []
    },
    {
      "cell_type": "code",
      "source": [
        "#split_code\n",
        "for genre in os.listdir(augment_folder):\n",
        "  print(genre, len(os.listdir(os.path.join(augment_folder, genre))))\n"
      ],
      "metadata": {
        "id": "i_urgS9-gMma",
        "colab": {
          "base_uri": "https://localhost:8080/"
        },
        "outputId": "f8735a49-8c16-49cc-b23a-82c832fceb98"
      },
      "execution_count": null,
      "outputs": [
        {
          "output_type": "stream",
          "name": "stdout",
          "text": [
            "Action 3033\n",
            "Romance 2421\n",
            "Horror 3582\n",
            "Comedy 2889\n"
          ]
        }
      ]
    },
    {
      "cell_type": "code",
      "source": [
        "#reduce randomly = 2000 is the limi\n",
        "import random\n",
        "import shutil\n",
        "from sklearn.model_selection import train_test_split\n",
        "\n",
        "\n",
        "genre_mapping = {'Horror': \"0\", 'Comedy': \"1\", 'Romance': \"2\", 'Action': \"3\"}\n",
        "\n",
        "def copy_files(src_path, target_path, files):\n",
        "  for file in files:\n",
        "    src_file_path = os.path.join(src_path, file)\n",
        "    target_file_path = os.path.join(target_path, file)\n",
        "    shutil.copy(src_file_path, target_file_path)\n",
        "\n",
        "def prepare_client_files(client_name, genre, genre_path, image_files):\n",
        "  client_path = os.path.join(base_path, client_name)\n",
        "  train_path = os.path.join(client_path, 'train')\n",
        "  val_path = os.path.join(client_path, 'val')\n",
        "  test_path = os.path.join(client_path, 'test')\n",
        "  train_genre_path = os.path.join(train_path, genre_mapping.get(genre))\n",
        "  val_genre_path = os.path.join(val_path, genre_mapping.get(genre))\n",
        "  test_genre_path = os.path.join(test_path, genre_mapping.get(genre))\n",
        "\n",
        "  os.makedirs(client_path, exist_ok = True)\n",
        "  os.makedirs(train_path, exist_ok = True)\n",
        "  os.makedirs(val_path, exist_ok = True)\n",
        "  os.makedirs(test_path, exist_ok = True)\n",
        "  os.makedirs(train_genre_path, exist_ok = True)\n",
        "  os.makedirs(val_genre_path, exist_ok = True)\n",
        "  os.makedirs(test_genre_path, exist_ok = True)\n",
        "\n",
        "  train, val, test = image_files[:700], image_files[700:850], image_files[850:]\n",
        "\n",
        "  copy_files(genre_path, train_genre_path, train )\n",
        "  copy_files(genre_path, val_genre_path, val )\n",
        "  copy_files(genre_path, test_genre_path, test )\n",
        "\n",
        "\n",
        "\n",
        "for genre in os.listdir(augment_folder):\n",
        "   genre_path = os.path.join(augment_folder, genre)\n",
        "   image_files = random.sample(os.listdir(genre_path)[0:2000], 2000)\n",
        "\n",
        "   client_1_items = image_files[:1000]\n",
        "   client_2_items = image_files[1000:2000]\n",
        "\n",
        "   prepare_client_files(\"fl_client_1\", genre, genre_path, client_1_items)\n",
        "   prepare_client_files(\"fl_client_2\", genre, genre_path, client_2_items)\n",
        "\n",
        "\n",
        "\n",
        "\n",
        "\n",
        "\n",
        "\n"
      ],
      "metadata": {
        "id": "HPT6sebYu1qv"
      },
      "execution_count": null,
      "outputs": []
    }
  ]
}